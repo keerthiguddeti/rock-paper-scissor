{
 "cells": [
  {
   "cell_type": "code",
   "execution_count": 5,
   "id": "c02ae39b",
   "metadata": {},
   "outputs": [
    {
     "name": "stdout",
     "output_type": "stream",
     "text": [
      "enter your number2\n",
      "enter your number3\n",
      "player 2 is win!\n"
     ]
    }
   ],
   "source": [
    "rock=1\n",
    "paper=2\n",
    "scissor=3\n",
    "player1=int(input(\"enter your number\"))\n",
    "player2=int(input(\"enter your number\"))\n",
    "if player1==1 and player2==2:\n",
    "    print(\"player 2 is wins!\")\n",
    "elif player1==1 and player2==3:\n",
    "    print(\"player 1 is win!\")\n",
    "elif player1==2 and player2==1:\n",
    "    print(\"player 1 is win!\")\n",
    "elif player1==2 and player2==3:\n",
    "    print(\"player 2 is win!\")\n",
    "elif player1==3 and player2==1:\n",
    "    print(\"player 2 is win!\")\n",
    "elif player1==3 and player2==2:\n",
    "    print(\"player 1 win!\")\n",
    "else:\n",
    "    print(\"the game was tie\")"
   ]
  }
 ],
 "metadata": {
  "kernelspec": {
   "display_name": "Python 3 (ipykernel)",
   "language": "python",
   "name": "python3"
  },
  "language_info": {
   "codemirror_mode": {
    "name": "ipython",
    "version": 3
   },
   "file_extension": ".py",
   "mimetype": "text/x-python",
   "name": "python",
   "nbconvert_exporter": "python",
   "pygments_lexer": "ipython3",
   "version": "3.9.13"
  }
 },
 "nbformat": 4,
 "nbformat_minor": 5
}
